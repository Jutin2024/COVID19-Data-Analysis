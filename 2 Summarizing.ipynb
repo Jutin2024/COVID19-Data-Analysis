{
 "cells": [
  {
   "cell_type": "code",
   "execution_count": 279,
   "id": "f037c1f9-4c1a-43e0-8356-6355f470657b",
   "metadata": {},
   "outputs": [],
   "source": [
    "import math\n",
    "import dataclasses\n",
    "import collections\n",
    "import datetime\n",
    "\n",
    "import pandas as pd\n",
    "import numpy as np\n",
    "import plotly.express as px"
   ]
  },
  {
   "cell_type": "code",
   "execution_count": 281,
   "id": "84f396a3-f978-4b4f-a3b1-fc4f5c770d12",
   "metadata": {},
   "outputs": [],
   "source": [
    "covid19 = pd.read_csv('covid19.csv.gz', dtype_backend = 'pyarrow', parse_dates = ['date'])"
   ]
  },
  {
   "cell_type": "code",
   "execution_count": 285,
   "id": "04b8ff0f-4762-4059-b16e-0da627820237",
   "metadata": {},
   "outputs": [
    {
     "name": "stdout",
     "output_type": "stream",
     "text": [
      "<class 'pandas.core.frame.DataFrame'>\n",
      "RangeIndex: 156710 entries, 0 to 156709\n",
      "Data columns (total 15 columns):\n",
      " #   Column                      Non-Null Count   Dtype          \n",
      "---  ------                      --------------   -----          \n",
      " 0   country                     156710 non-null  string[pyarrow]\n",
      " 1   date                        156710 non-null  datetime64[ns] \n",
      " 2   continent                   156710 non-null  string[pyarrow]\n",
      " 3   population                  156710 non-null  int64[pyarrow] \n",
      " 4   life_expectancy             151672 non-null  double[pyarrow]\n",
      " 5   gdp_per_capita              148190 non-null  int64[pyarrow] \n",
      " 6   population_density          156710 non-null  double[pyarrow]\n",
      " 7   median_age                  156710 non-null  double[pyarrow]\n",
      " 8   extreme_poverty             137966 non-null  double[pyarrow]\n",
      " 9   human_development_index     156710 non-null  double[pyarrow]\n",
      " 10  hospital_beds_per_thousand  122630 non-null  double[pyarrow]\n",
      " 11  percent_fully_vaccinated    156710 non-null  double[pyarrow]\n",
      " 12  total_cases                 156710 non-null  int64[pyarrow] \n",
      " 13  total_deaths                156710 non-null  int64[pyarrow] \n",
      " 14  total_excess                5737 non-null    int64[pyarrow] \n",
      "dtypes: datetime64[ns](1), double[pyarrow](7), int64[pyarrow](5), string[pyarrow](2)\n",
      "memory usage: 19.0 MB\n"
     ]
    }
   ],
   "source": [
    "covid19.info()"
   ]
  },
  {
   "cell_type": "code",
   "execution_count": 323,
   "id": "f9f31351-b763-4ba6-9033-a8f64bc9ba90",
   "metadata": {},
   "outputs": [
    {
     "data": {
      "text/html": [
       "<div>\n",
       "<style scoped>\n",
       "    .dataframe tbody tr th:only-of-type {\n",
       "        vertical-align: middle;\n",
       "    }\n",
       "\n",
       "    .dataframe tbody tr th {\n",
       "        vertical-align: top;\n",
       "    }\n",
       "\n",
       "    .dataframe thead th {\n",
       "        text-align: right;\n",
       "    }\n",
       "</style>\n",
       "<table border=\"1\" class=\"dataframe\">\n",
       "  <thead>\n",
       "    <tr style=\"text-align: right;\">\n",
       "      <th></th>\n",
       "      <th>date</th>\n",
       "      <th>continent</th>\n",
       "      <th>population</th>\n",
       "      <th>life_expectancy</th>\n",
       "      <th>gdp_per_capita</th>\n",
       "      <th>population_density</th>\n",
       "      <th>median_age</th>\n",
       "      <th>extreme_poverty</th>\n",
       "      <th>human_development_index</th>\n",
       "      <th>hospital_beds_per_thousand</th>\n",
       "      <th>percent_fully_vaccinated</th>\n",
       "      <th>total_cases</th>\n",
       "      <th>total_deaths</th>\n",
       "      <th>total_excess</th>\n",
       "    </tr>\n",
       "    <tr>\n",
       "      <th>country</th>\n",
       "      <th></th>\n",
       "      <th></th>\n",
       "      <th></th>\n",
       "      <th></th>\n",
       "      <th></th>\n",
       "      <th></th>\n",
       "      <th></th>\n",
       "      <th></th>\n",
       "      <th></th>\n",
       "      <th></th>\n",
       "      <th></th>\n",
       "      <th></th>\n",
       "      <th></th>\n",
       "      <th></th>\n",
       "    </tr>\n",
       "  </thead>\n",
       "  <tbody>\n",
       "    <tr>\n",
       "      <th>Afghanistan</th>\n",
       "      <td>2024-09-08</td>\n",
       "      <td>Asia</td>\n",
       "      <td>40578846</td>\n",
       "      <td>61.9824</td>\n",
       "      <td>1516</td>\n",
       "      <td>62.215546</td>\n",
       "      <td>16.752</td>\n",
       "      <td>&lt;NA&gt;</td>\n",
       "      <td>0.462</td>\n",
       "      <td>0.39</td>\n",
       "      <td>45.270844</td>\n",
       "      <td>235213</td>\n",
       "      <td>7998</td>\n",
       "      <td>&lt;NA&gt;</td>\n",
       "    </tr>\n",
       "    <tr>\n",
       "      <th>Algeria</th>\n",
       "      <td>2024-09-08</td>\n",
       "      <td>Africa</td>\n",
       "      <td>45477391</td>\n",
       "      <td>61.6609</td>\n",
       "      <td>11198</td>\n",
       "      <td>19.09418</td>\n",
       "      <td>27.983</td>\n",
       "      <td>0.455468</td>\n",
       "      <td>0.745</td>\n",
       "      <td>1.9</td>\n",
       "      <td>14.251447</td>\n",
       "      <td>272156</td>\n",
       "      <td>6881</td>\n",
       "      <td>126117</td>\n",
       "    </tr>\n",
       "    <tr>\n",
       "      <th>Angola</th>\n",
       "      <td>2024-09-08</td>\n",
       "      <td>Africa</td>\n",
       "      <td>35635028</td>\n",
       "      <td>76.4626</td>\n",
       "      <td>5906</td>\n",
       "      <td>28.583483</td>\n",
       "      <td>16.39</td>\n",
       "      <td>31.122005</td>\n",
       "      <td>0.591</td>\n",
       "      <td>&lt;NA&gt;</td>\n",
       "      <td>26.965265</td>\n",
       "      <td>107481</td>\n",
       "      <td>1937</td>\n",
       "      <td>&lt;NA&gt;</td>\n",
       "    </tr>\n",
       "    <tr>\n",
       "      <th>Argentina</th>\n",
       "      <td>2024-09-08</td>\n",
       "      <td>South America</td>\n",
       "      <td>45407904</td>\n",
       "      <td>76.3767</td>\n",
       "      <td>22461</td>\n",
       "      <td>16.592274</td>\n",
       "      <td>31.739</td>\n",
       "      <td>&lt;NA&gt;</td>\n",
       "      <td>0.849</td>\n",
       "      <td>4.99</td>\n",
       "      <td>76.860214</td>\n",
       "      <td>10102033</td>\n",
       "      <td>130671</td>\n",
       "      <td>186306</td>\n",
       "    </tr>\n",
       "    <tr>\n",
       "      <th>Australia</th>\n",
       "      <td>2024-09-08</td>\n",
       "      <td>Oceania</td>\n",
       "      <td>26200987</td>\n",
       "      <td>72.5398</td>\n",
       "      <td>51090</td>\n",
       "      <td>3.406256</td>\n",
       "      <td>37.512</td>\n",
       "      <td>0.497094</td>\n",
       "      <td>0.946</td>\n",
       "      <td>3.84</td>\n",
       "      <td>82.62102</td>\n",
       "      <td>11861160</td>\n",
       "      <td>25236</td>\n",
       "      <td>36645</td>\n",
       "    </tr>\n",
       "    <tr>\n",
       "      <th>...</th>\n",
       "      <td>...</td>\n",
       "      <td>...</td>\n",
       "      <td>...</td>\n",
       "      <td>...</td>\n",
       "      <td>...</td>\n",
       "      <td>...</td>\n",
       "      <td>...</td>\n",
       "      <td>...</td>\n",
       "      <td>...</td>\n",
       "      <td>...</td>\n",
       "      <td>...</td>\n",
       "      <td>...</td>\n",
       "      <td>...</td>\n",
       "      <td>...</td>\n",
       "    </tr>\n",
       "    <tr>\n",
       "      <th>Venezuela</th>\n",
       "      <td>2024-09-08</td>\n",
       "      <td>South America</td>\n",
       "      <td>28213016</td>\n",
       "      <td>80.1106</td>\n",
       "      <td>&lt;NA&gt;</td>\n",
       "      <td>31.985733</td>\n",
       "      <td>28.81</td>\n",
       "      <td>&lt;NA&gt;</td>\n",
       "      <td>0.699</td>\n",
       "      <td>0.87</td>\n",
       "      <td>53.048817</td>\n",
       "      <td>552694</td>\n",
       "      <td>5856</td>\n",
       "      <td>&lt;NA&gt;</td>\n",
       "    </tr>\n",
       "    <tr>\n",
       "      <th>Vietnam</th>\n",
       "      <td>2024-09-08</td>\n",
       "      <td>Asia</td>\n",
       "      <td>99680656</td>\n",
       "      <td>72.3542</td>\n",
       "      <td>11396</td>\n",
       "      <td>318.03265</td>\n",
       "      <td>31.938</td>\n",
       "      <td>0.963795</td>\n",
       "      <td>0.726</td>\n",
       "      <td>2.6</td>\n",
       "      <td>86.23695</td>\n",
       "      <td>11623999</td>\n",
       "      <td>43206</td>\n",
       "      <td>&lt;NA&gt;</td>\n",
       "    </tr>\n",
       "    <tr>\n",
       "      <th>Yemen</th>\n",
       "      <td>2024-09-08</td>\n",
       "      <td>Asia</td>\n",
       "      <td>38222880</td>\n",
       "      <td>74.9362</td>\n",
       "      <td>&lt;NA&gt;</td>\n",
       "      <td>72.395935</td>\n",
       "      <td>18.118</td>\n",
       "      <td>19.802757</td>\n",
       "      <td>0.424</td>\n",
       "      <td>0.71</td>\n",
       "      <td>2.11145</td>\n",
       "      <td>11945</td>\n",
       "      <td>2159</td>\n",
       "      <td>&lt;NA&gt;</td>\n",
       "    </tr>\n",
       "    <tr>\n",
       "      <th>Zambia</th>\n",
       "      <td>2024-09-08</td>\n",
       "      <td>Africa</td>\n",
       "      <td>20152934</td>\n",
       "      <td>80.535</td>\n",
       "      <td>3365</td>\n",
       "      <td>27.109505</td>\n",
       "      <td>17.288</td>\n",
       "      <td>64.349754</td>\n",
       "      <td>0.569</td>\n",
       "      <td>&lt;NA&gt;</td>\n",
       "      <td>45.719406</td>\n",
       "      <td>349868</td>\n",
       "      <td>4078</td>\n",
       "      <td>&lt;NA&gt;</td>\n",
       "    </tr>\n",
       "    <tr>\n",
       "      <th>Zimbabwe</th>\n",
       "      <td>2024-09-08</td>\n",
       "      <td>Africa</td>\n",
       "      <td>16069061</td>\n",
       "      <td>76.6564</td>\n",
       "      <td>2207</td>\n",
       "      <td>41.538223</td>\n",
       "      <td>17.683</td>\n",
       "      <td>39.75453</td>\n",
       "      <td>0.55</td>\n",
       "      <td>1.7</td>\n",
       "      <td>35.236153</td>\n",
       "      <td>266388</td>\n",
       "      <td>5740</td>\n",
       "      <td>&lt;NA&gt;</td>\n",
       "    </tr>\n",
       "  </tbody>\n",
       "</table>\n",
       "<p>93 rows × 14 columns</p>\n",
       "</div>"
      ],
      "text/plain": [
       "                  date      continent  population  life_expectancy  \\\n",
       "country                                                              \n",
       "Afghanistan 2024-09-08           Asia    40578846          61.9824   \n",
       "Algeria     2024-09-08         Africa    45477391          61.6609   \n",
       "Angola      2024-09-08         Africa    35635028          76.4626   \n",
       "Argentina   2024-09-08  South America    45407904          76.3767   \n",
       "Australia   2024-09-08        Oceania    26200987          72.5398   \n",
       "...                ...            ...         ...              ...   \n",
       "Venezuela   2024-09-08  South America    28213016          80.1106   \n",
       "Vietnam     2024-09-08           Asia    99680656          72.3542   \n",
       "Yemen       2024-09-08           Asia    38222880          74.9362   \n",
       "Zambia      2024-09-08         Africa    20152934           80.535   \n",
       "Zimbabwe    2024-09-08         Africa    16069061          76.6564   \n",
       "\n",
       "             gdp_per_capita  population_density  median_age  extreme_poverty  \\\n",
       "country                                                                        \n",
       "Afghanistan            1516           62.215546      16.752             <NA>   \n",
       "Algeria               11198            19.09418      27.983         0.455468   \n",
       "Angola                 5906           28.583483       16.39        31.122005   \n",
       "Argentina             22461           16.592274      31.739             <NA>   \n",
       "Australia             51090            3.406256      37.512         0.497094   \n",
       "...                     ...                 ...         ...              ...   \n",
       "Venezuela              <NA>           31.985733       28.81             <NA>   \n",
       "Vietnam               11396           318.03265      31.938         0.963795   \n",
       "Yemen                  <NA>           72.395935      18.118        19.802757   \n",
       "Zambia                 3365           27.109505      17.288        64.349754   \n",
       "Zimbabwe               2207           41.538223      17.683         39.75453   \n",
       "\n",
       "             human_development_index  hospital_beds_per_thousand  \\\n",
       "country                                                            \n",
       "Afghanistan                    0.462                        0.39   \n",
       "Algeria                        0.745                         1.9   \n",
       "Angola                         0.591                        <NA>   \n",
       "Argentina                      0.849                        4.99   \n",
       "Australia                      0.946                        3.84   \n",
       "...                              ...                         ...   \n",
       "Venezuela                      0.699                        0.87   \n",
       "Vietnam                        0.726                         2.6   \n",
       "Yemen                          0.424                        0.71   \n",
       "Zambia                         0.569                        <NA>   \n",
       "Zimbabwe                        0.55                         1.7   \n",
       "\n",
       "             percent_fully_vaccinated  total_cases  total_deaths  total_excess  \n",
       "country                                                                         \n",
       "Afghanistan                 45.270844       235213          7998          <NA>  \n",
       "Algeria                     14.251447       272156          6881        126117  \n",
       "Angola                      26.965265       107481          1937          <NA>  \n",
       "Argentina                   76.860214     10102033        130671        186306  \n",
       "Australia                    82.62102     11861160         25236         36645  \n",
       "...                               ...          ...           ...           ...  \n",
       "Venezuela                   53.048817       552694          5856          <NA>  \n",
       "Vietnam                      86.23695     11623999         43206          <NA>  \n",
       "Yemen                         2.11145        11945          2159          <NA>  \n",
       "Zambia                      45.719406       349868          4078          <NA>  \n",
       "Zimbabwe                    35.236153       266388          5740          <NA>  \n",
       "\n",
       "[93 rows x 14 columns]"
      ]
     },
     "execution_count": 323,
     "metadata": {},
     "output_type": "execute_result"
    }
   ],
   "source": [
    "final = covid19.groupby('country').last()\n",
    "final"
   ]
  },
  {
   "cell_type": "code",
   "execution_count": null,
   "id": "88c7f91b-fb04-43fc-91b1-3c56bb5253dd",
   "metadata": {},
   "outputs": [],
   "source": []
  },
  {
   "cell_type": "code",
   "execution_count": 329,
   "id": "f10e0f97-6f5a-486c-b4b4-9e0e7b41e06e",
   "metadata": {},
   "outputs": [],
   "source": [
    "# Top 10 countries with the highest total case counts"
   ]
  },
  {
   "cell_type": "code",
   "execution_count": 311,
   "id": "8b09a892-cae1-43af-b90a-ad521d9d4118",
   "metadata": {},
   "outputs": [
    {
     "data": {
      "text/plain": [
       "country\n",
       "United States     103436827\n",
       "China              99379132\n",
       "India              45042835\n",
       "France             38997489\n",
       "Germany            38437755\n",
       "Brazil             37511921\n",
       "South Korea        34571873\n",
       "Japan              33803571\n",
       "Italy              26826486\n",
       "United Kingdom     24983908\n",
       "Name: total_cases, dtype: int64[pyarrow]"
      ]
     },
     "execution_count": 311,
     "metadata": {},
     "output_type": "execute_result"
    }
   ],
   "source": [
    "final.total_cases.nlargest(10)"
   ]
  },
  {
   "cell_type": "markdown",
   "id": "4c8b7c58-3f8a-4397-aa00-4ffaaf7fa7b9",
   "metadata": {},
   "source": [
    "reveals that the United States had the highest number of cases"
   ]
  },
  {
   "cell_type": "code",
   "execution_count": 331,
   "id": "94bc2980-b589-4d99-b339-5d5367c0c08b",
   "metadata": {},
   "outputs": [
    {
     "data": {
      "text/plain": [
       "country\n",
       "United Kingdom     24983908\n",
       "Italy              26826486\n",
       "Japan              33803571\n",
       "South Korea        34571873\n",
       "Brazil             37511921\n",
       "Germany            38437755\n",
       "France             38997489\n",
       "India              45042835\n",
       "China              99379132\n",
       "United States     103436827\n",
       "Name: total_cases, dtype: int64[pyarrow]"
      ]
     },
     "execution_count": 331,
     "metadata": {},
     "output_type": "execute_result"
    }
   ],
   "source": [
    "# alternative code\n",
    "\n",
    "final.total_cases.sort_values().tail(10)"
   ]
  },
  {
   "cell_type": "code",
   "execution_count": 335,
   "id": "5050044d-1179-4ee7-8c4a-6d827e6c9cc9",
   "metadata": {},
   "outputs": [
    {
     "data": {
      "text/html": [
       "<div>\n",
       "<style scoped>\n",
       "    .dataframe tbody tr th:only-of-type {\n",
       "        vertical-align: middle;\n",
       "    }\n",
       "\n",
       "    .dataframe tbody tr th {\n",
       "        vertical-align: top;\n",
       "    }\n",
       "\n",
       "    .dataframe thead th {\n",
       "        text-align: right;\n",
       "    }\n",
       "</style>\n",
       "<table border=\"1\" class=\"dataframe\">\n",
       "  <thead>\n",
       "    <tr style=\"text-align: right;\">\n",
       "      <th></th>\n",
       "      <th>total_cases</th>\n",
       "    </tr>\n",
       "    <tr>\n",
       "      <th>country</th>\n",
       "      <th></th>\n",
       "    </tr>\n",
       "  </thead>\n",
       "  <tbody>\n",
       "    <tr>\n",
       "      <th>United States</th>\n",
       "      <td>103436827</td>\n",
       "    </tr>\n",
       "    <tr>\n",
       "      <th>China</th>\n",
       "      <td>99379132</td>\n",
       "    </tr>\n",
       "    <tr>\n",
       "      <th>India</th>\n",
       "      <td>45042835</td>\n",
       "    </tr>\n",
       "    <tr>\n",
       "      <th>France</th>\n",
       "      <td>38997489</td>\n",
       "    </tr>\n",
       "    <tr>\n",
       "      <th>Germany</th>\n",
       "      <td>38437755</td>\n",
       "    </tr>\n",
       "    <tr>\n",
       "      <th>Brazil</th>\n",
       "      <td>37511921</td>\n",
       "    </tr>\n",
       "    <tr>\n",
       "      <th>South Korea</th>\n",
       "      <td>34571873</td>\n",
       "    </tr>\n",
       "    <tr>\n",
       "      <th>Japan</th>\n",
       "      <td>33803571</td>\n",
       "    </tr>\n",
       "    <tr>\n",
       "      <th>Italy</th>\n",
       "      <td>26826486</td>\n",
       "    </tr>\n",
       "    <tr>\n",
       "      <th>United Kingdom</th>\n",
       "      <td>24983908</td>\n",
       "    </tr>\n",
       "  </tbody>\n",
       "</table>\n",
       "</div>"
      ],
      "text/plain": [
       "                total_cases\n",
       "country                    \n",
       "United States     103436827\n",
       "China              99379132\n",
       "India              45042835\n",
       "France             38997489\n",
       "Germany            38437755\n",
       "Brazil             37511921\n",
       "South Korea        34571873\n",
       "Japan              33803571\n",
       "Italy              26826486\n",
       "United Kingdom     24983908"
      ]
     },
     "execution_count": 335,
     "metadata": {},
     "output_type": "execute_result"
    }
   ],
   "source": [
    "# above output looks too raw, for more readable format using dataframe\n",
    "\n",
    "pd.DataFrame(final.total_cases.nlargest(10))"
   ]
  },
  {
   "cell_type": "code",
   "execution_count": 368,
   "id": "d7638cbe-2d55-4159-834e-3bb748466067",
   "metadata": {},
   "outputs": [
    {
     "data": {
      "text/html": [
       "<style type=\"text/css\">\n",
       "</style>\n",
       "<table id=\"T_32979\">\n",
       "  <thead>\n",
       "    <tr>\n",
       "      <th class=\"blank level0\" >&nbsp;</th>\n",
       "      <th id=\"T_32979_level0_col0\" class=\"col_heading level0 col0\" >total_cases</th>\n",
       "      <th id=\"T_32979_level0_col1\" class=\"col_heading level0 col1\" >total_deaths</th>\n",
       "    </tr>\n",
       "    <tr>\n",
       "      <th class=\"index_name level0\" >country</th>\n",
       "      <th class=\"blank col0\" >&nbsp;</th>\n",
       "      <th class=\"blank col1\" >&nbsp;</th>\n",
       "    </tr>\n",
       "  </thead>\n",
       "  <tbody>\n",
       "    <tr>\n",
       "      <th id=\"T_32979_level0_row0\" class=\"row_heading level0 row0\" >United States</th>\n",
       "      <td id=\"T_32979_row0_col0\" class=\"data row0 col0\" >103,436,827</td>\n",
       "      <td id=\"T_32979_row0_col1\" class=\"data row0 col1\" >1,127,911</td>\n",
       "    </tr>\n",
       "    <tr>\n",
       "      <th id=\"T_32979_level0_row1\" class=\"row_heading level0 row1\" >China</th>\n",
       "      <td id=\"T_32979_row1_col0\" class=\"data row1 col0\" >99,379,132</td>\n",
       "      <td id=\"T_32979_row1_col1\" class=\"data row1 col1\" >122,351</td>\n",
       "    </tr>\n",
       "    <tr>\n",
       "      <th id=\"T_32979_level0_row2\" class=\"row_heading level0 row2\" >India</th>\n",
       "      <td id=\"T_32979_row2_col0\" class=\"data row2 col0\" >45,042,835</td>\n",
       "      <td id=\"T_32979_row2_col1\" class=\"data row2 col1\" >533,636</td>\n",
       "    </tr>\n",
       "    <tr>\n",
       "      <th id=\"T_32979_level0_row3\" class=\"row_heading level0 row3\" >France</th>\n",
       "      <td id=\"T_32979_row3_col0\" class=\"data row3 col0\" >38,997,489</td>\n",
       "      <td id=\"T_32979_row3_col1\" class=\"data row3 col1\" >167,985</td>\n",
       "    </tr>\n",
       "    <tr>\n",
       "      <th id=\"T_32979_level0_row4\" class=\"row_heading level0 row4\" >Germany</th>\n",
       "      <td id=\"T_32979_row4_col0\" class=\"data row4 col0\" >38,437,755</td>\n",
       "      <td id=\"T_32979_row4_col1\" class=\"data row4 col1\" >174,979</td>\n",
       "    </tr>\n",
       "    <tr>\n",
       "      <th id=\"T_32979_level0_row5\" class=\"row_heading level0 row5\" >Brazil</th>\n",
       "      <td id=\"T_32979_row5_col0\" class=\"data row5 col0\" >37,511,921</td>\n",
       "      <td id=\"T_32979_row5_col1\" class=\"data row5 col1\" >702,116</td>\n",
       "    </tr>\n",
       "    <tr>\n",
       "      <th id=\"T_32979_level0_row6\" class=\"row_heading level0 row6\" >South Korea</th>\n",
       "      <td id=\"T_32979_row6_col0\" class=\"data row6 col0\" >34,571,873</td>\n",
       "      <td id=\"T_32979_row6_col1\" class=\"data row6 col1\" >35,934</td>\n",
       "    </tr>\n",
       "    <tr>\n",
       "      <th id=\"T_32979_level0_row7\" class=\"row_heading level0 row7\" >Japan</th>\n",
       "      <td id=\"T_32979_row7_col0\" class=\"data row7 col0\" >33,803,571</td>\n",
       "      <td id=\"T_32979_row7_col1\" class=\"data row7 col1\" >74,694</td>\n",
       "    </tr>\n",
       "    <tr>\n",
       "      <th id=\"T_32979_level0_row8\" class=\"row_heading level0 row8\" >Italy</th>\n",
       "      <td id=\"T_32979_row8_col0\" class=\"data row8 col0\" >26,826,486</td>\n",
       "      <td id=\"T_32979_row8_col1\" class=\"data row8 col1\" >197,542</td>\n",
       "    </tr>\n",
       "    <tr>\n",
       "      <th id=\"T_32979_level0_row9\" class=\"row_heading level0 row9\" >United Kingdom</th>\n",
       "      <td id=\"T_32979_row9_col0\" class=\"data row9 col0\" >24,983,908</td>\n",
       "      <td id=\"T_32979_row9_col1\" class=\"data row9 col1\" >232,112</td>\n",
       "    </tr>\n",
       "  </tbody>\n",
       "</table>\n"
      ],
      "text/plain": [
       "<pandas.io.formats.style.Styler at 0x2961aa6ac30>"
      ]
     },
     "execution_count": 368,
     "metadata": {},
     "output_type": "execute_result"
    }
   ],
   "source": [
    "# Top 10 Countries Reporting the Highest COVID-19 Cases and Their Total Deaths\n",
    "\n",
    "pd.DataFrame(final[['total_cases', 'total_deaths']].nlargest(10, 'total_cases')).style.format('{:,d}')"
   ]
  },
  {
   "cell_type": "code",
   "execution_count": null,
   "id": "8a7a103a-452e-4fae-bd5d-c3ce8c177128",
   "metadata": {},
   "outputs": [],
   "source": []
  },
  {
   "cell_type": "code",
   "execution_count": 325,
   "id": "2b827a1c-c398-4c54-beba-53ba64f95a46",
   "metadata": {},
   "outputs": [
    {
     "data": {
      "application/vnd.plotly.v1+json": {
       "config": {
        "plotlyServerURL": "https://plot.ly"
       },
       "data": [
        {
         "alignmentgroup": "True",
         "hovertemplate": "Country=%{x}<br>Total Cases=%{y}<extra></extra>",
         "legendgroup": "",
         "marker": {
          "color": "#636efa",
          "pattern": {
           "shape": ""
          }
         },
         "name": "",
         "offsetgroup": "",
         "orientation": "v",
         "showlegend": false,
         "textposition": "auto",
         "type": "bar",
         "x": [
          "United States",
          "China",
          "India",
          "France",
          "Germany",
          "Brazil",
          "South Korea",
          "Japan",
          "Italy",
          "United Kingdom"
         ],
         "xaxis": "x",
         "y": [
          103436827,
          99379132,
          45042835,
          38997489,
          38437755,
          37511921,
          34571873,
          33803571,
          26826486,
          24983908
         ],
         "yaxis": "y"
        }
       ],
       "layout": {
        "autosize": true,
        "barmode": "relative",
        "legend": {
         "tracegroupgap": 0
        },
        "template": {
         "data": {
          "bar": [
           {
            "error_x": {
             "color": "#2a3f5f"
            },
            "error_y": {
             "color": "#2a3f5f"
            },
            "marker": {
             "line": {
              "color": "#E5ECF6",
              "width": 0.5
             },
             "pattern": {
              "fillmode": "overlay",
              "size": 10,
              "solidity": 0.2
             }
            },
            "type": "bar"
           }
          ],
          "barpolar": [
           {
            "marker": {
             "line": {
              "color": "#E5ECF6",
              "width": 0.5
             },
             "pattern": {
              "fillmode": "overlay",
              "size": 10,
              "solidity": 0.2
             }
            },
            "type": "barpolar"
           }
          ],
          "carpet": [
           {
            "aaxis": {
             "endlinecolor": "#2a3f5f",
             "gridcolor": "white",
             "linecolor": "white",
             "minorgridcolor": "white",
             "startlinecolor": "#2a3f5f"
            },
            "baxis": {
             "endlinecolor": "#2a3f5f",
             "gridcolor": "white",
             "linecolor": "white",
             "minorgridcolor": "white",
             "startlinecolor": "#2a3f5f"
            },
            "type": "carpet"
           }
          ],
          "choropleth": [
           {
            "colorbar": {
             "outlinewidth": 0,
             "ticks": ""
            },
            "type": "choropleth"
           }
          ],
          "contour": [
           {
            "colorbar": {
             "outlinewidth": 0,
             "ticks": ""
            },
            "colorscale": [
             [
              0,
              "#0d0887"
             ],
             [
              0.1111111111111111,
              "#46039f"
             ],
             [
              0.2222222222222222,
              "#7201a8"
             ],
             [
              0.3333333333333333,
              "#9c179e"
             ],
             [
              0.4444444444444444,
              "#bd3786"
             ],
             [
              0.5555555555555556,
              "#d8576b"
             ],
             [
              0.6666666666666666,
              "#ed7953"
             ],
             [
              0.7777777777777778,
              "#fb9f3a"
             ],
             [
              0.8888888888888888,
              "#fdca26"
             ],
             [
              1,
              "#f0f921"
             ]
            ],
            "type": "contour"
           }
          ],
          "contourcarpet": [
           {
            "colorbar": {
             "outlinewidth": 0,
             "ticks": ""
            },
            "type": "contourcarpet"
           }
          ],
          "heatmap": [
           {
            "colorbar": {
             "outlinewidth": 0,
             "ticks": ""
            },
            "colorscale": [
             [
              0,
              "#0d0887"
             ],
             [
              0.1111111111111111,
              "#46039f"
             ],
             [
              0.2222222222222222,
              "#7201a8"
             ],
             [
              0.3333333333333333,
              "#9c179e"
             ],
             [
              0.4444444444444444,
              "#bd3786"
             ],
             [
              0.5555555555555556,
              "#d8576b"
             ],
             [
              0.6666666666666666,
              "#ed7953"
             ],
             [
              0.7777777777777778,
              "#fb9f3a"
             ],
             [
              0.8888888888888888,
              "#fdca26"
             ],
             [
              1,
              "#f0f921"
             ]
            ],
            "type": "heatmap"
           }
          ],
          "heatmapgl": [
           {
            "colorbar": {
             "outlinewidth": 0,
             "ticks": ""
            },
            "colorscale": [
             [
              0,
              "#0d0887"
             ],
             [
              0.1111111111111111,
              "#46039f"
             ],
             [
              0.2222222222222222,
              "#7201a8"
             ],
             [
              0.3333333333333333,
              "#9c179e"
             ],
             [
              0.4444444444444444,
              "#bd3786"
             ],
             [
              0.5555555555555556,
              "#d8576b"
             ],
             [
              0.6666666666666666,
              "#ed7953"
             ],
             [
              0.7777777777777778,
              "#fb9f3a"
             ],
             [
              0.8888888888888888,
              "#fdca26"
             ],
             [
              1,
              "#f0f921"
             ]
            ],
            "type": "heatmapgl"
           }
          ],
          "histogram": [
           {
            "marker": {
             "pattern": {
              "fillmode": "overlay",
              "size": 10,
              "solidity": 0.2
             }
            },
            "type": "histogram"
           }
          ],
          "histogram2d": [
           {
            "colorbar": {
             "outlinewidth": 0,
             "ticks": ""
            },
            "colorscale": [
             [
              0,
              "#0d0887"
             ],
             [
              0.1111111111111111,
              "#46039f"
             ],
             [
              0.2222222222222222,
              "#7201a8"
             ],
             [
              0.3333333333333333,
              "#9c179e"
             ],
             [
              0.4444444444444444,
              "#bd3786"
             ],
             [
              0.5555555555555556,
              "#d8576b"
             ],
             [
              0.6666666666666666,
              "#ed7953"
             ],
             [
              0.7777777777777778,
              "#fb9f3a"
             ],
             [
              0.8888888888888888,
              "#fdca26"
             ],
             [
              1,
              "#f0f921"
             ]
            ],
            "type": "histogram2d"
           }
          ],
          "histogram2dcontour": [
           {
            "colorbar": {
             "outlinewidth": 0,
             "ticks": ""
            },
            "colorscale": [
             [
              0,
              "#0d0887"
             ],
             [
              0.1111111111111111,
              "#46039f"
             ],
             [
              0.2222222222222222,
              "#7201a8"
             ],
             [
              0.3333333333333333,
              "#9c179e"
             ],
             [
              0.4444444444444444,
              "#bd3786"
             ],
             [
              0.5555555555555556,
              "#d8576b"
             ],
             [
              0.6666666666666666,
              "#ed7953"
             ],
             [
              0.7777777777777778,
              "#fb9f3a"
             ],
             [
              0.8888888888888888,
              "#fdca26"
             ],
             [
              1,
              "#f0f921"
             ]
            ],
            "type": "histogram2dcontour"
           }
          ],
          "mesh3d": [
           {
            "colorbar": {
             "outlinewidth": 0,
             "ticks": ""
            },
            "type": "mesh3d"
           }
          ],
          "parcoords": [
           {
            "line": {
             "colorbar": {
              "outlinewidth": 0,
              "ticks": ""
             }
            },
            "type": "parcoords"
           }
          ],
          "pie": [
           {
            "automargin": true,
            "type": "pie"
           }
          ],
          "scatter": [
           {
            "fillpattern": {
             "fillmode": "overlay",
             "size": 10,
             "solidity": 0.2
            },
            "type": "scatter"
           }
          ],
          "scatter3d": [
           {
            "line": {
             "colorbar": {
              "outlinewidth": 0,
              "ticks": ""
             }
            },
            "marker": {
             "colorbar": {
              "outlinewidth": 0,
              "ticks": ""
             }
            },
            "type": "scatter3d"
           }
          ],
          "scattercarpet": [
           {
            "marker": {
             "colorbar": {
              "outlinewidth": 0,
              "ticks": ""
             }
            },
            "type": "scattercarpet"
           }
          ],
          "scattergeo": [
           {
            "marker": {
             "colorbar": {
              "outlinewidth": 0,
              "ticks": ""
             }
            },
            "type": "scattergeo"
           }
          ],
          "scattergl": [
           {
            "marker": {
             "colorbar": {
              "outlinewidth": 0,
              "ticks": ""
             }
            },
            "type": "scattergl"
           }
          ],
          "scattermapbox": [
           {
            "marker": {
             "colorbar": {
              "outlinewidth": 0,
              "ticks": ""
             }
            },
            "type": "scattermapbox"
           }
          ],
          "scatterpolar": [
           {
            "marker": {
             "colorbar": {
              "outlinewidth": 0,
              "ticks": ""
             }
            },
            "type": "scatterpolar"
           }
          ],
          "scatterpolargl": [
           {
            "marker": {
             "colorbar": {
              "outlinewidth": 0,
              "ticks": ""
             }
            },
            "type": "scatterpolargl"
           }
          ],
          "scatterternary": [
           {
            "marker": {
             "colorbar": {
              "outlinewidth": 0,
              "ticks": ""
             }
            },
            "type": "scatterternary"
           }
          ],
          "surface": [
           {
            "colorbar": {
             "outlinewidth": 0,
             "ticks": ""
            },
            "colorscale": [
             [
              0,
              "#0d0887"
             ],
             [
              0.1111111111111111,
              "#46039f"
             ],
             [
              0.2222222222222222,
              "#7201a8"
             ],
             [
              0.3333333333333333,
              "#9c179e"
             ],
             [
              0.4444444444444444,
              "#bd3786"
             ],
             [
              0.5555555555555556,
              "#d8576b"
             ],
             [
              0.6666666666666666,
              "#ed7953"
             ],
             [
              0.7777777777777778,
              "#fb9f3a"
             ],
             [
              0.8888888888888888,
              "#fdca26"
             ],
             [
              1,
              "#f0f921"
             ]
            ],
            "type": "surface"
           }
          ],
          "table": [
           {
            "cells": {
             "fill": {
              "color": "#EBF0F8"
             },
             "line": {
              "color": "white"
             }
            },
            "header": {
             "fill": {
              "color": "#C8D4E3"
             },
             "line": {
              "color": "white"
             }
            },
            "type": "table"
           }
          ]
         },
         "layout": {
          "annotationdefaults": {
           "arrowcolor": "#2a3f5f",
           "arrowhead": 0,
           "arrowwidth": 1
          },
          "autotypenumbers": "strict",
          "coloraxis": {
           "colorbar": {
            "outlinewidth": 0,
            "ticks": ""
           }
          },
          "colorscale": {
           "diverging": [
            [
             0,
             "#8e0152"
            ],
            [
             0.1,
             "#c51b7d"
            ],
            [
             0.2,
             "#de77ae"
            ],
            [
             0.3,
             "#f1b6da"
            ],
            [
             0.4,
             "#fde0ef"
            ],
            [
             0.5,
             "#f7f7f7"
            ],
            [
             0.6,
             "#e6f5d0"
            ],
            [
             0.7,
             "#b8e186"
            ],
            [
             0.8,
             "#7fbc41"
            ],
            [
             0.9,
             "#4d9221"
            ],
            [
             1,
             "#276419"
            ]
           ],
           "sequential": [
            [
             0,
             "#0d0887"
            ],
            [
             0.1111111111111111,
             "#46039f"
            ],
            [
             0.2222222222222222,
             "#7201a8"
            ],
            [
             0.3333333333333333,
             "#9c179e"
            ],
            [
             0.4444444444444444,
             "#bd3786"
            ],
            [
             0.5555555555555556,
             "#d8576b"
            ],
            [
             0.6666666666666666,
             "#ed7953"
            ],
            [
             0.7777777777777778,
             "#fb9f3a"
            ],
            [
             0.8888888888888888,
             "#fdca26"
            ],
            [
             1,
             "#f0f921"
            ]
           ],
           "sequentialminus": [
            [
             0,
             "#0d0887"
            ],
            [
             0.1111111111111111,
             "#46039f"
            ],
            [
             0.2222222222222222,
             "#7201a8"
            ],
            [
             0.3333333333333333,
             "#9c179e"
            ],
            [
             0.4444444444444444,
             "#bd3786"
            ],
            [
             0.5555555555555556,
             "#d8576b"
            ],
            [
             0.6666666666666666,
             "#ed7953"
            ],
            [
             0.7777777777777778,
             "#fb9f3a"
            ],
            [
             0.8888888888888888,
             "#fdca26"
            ],
            [
             1,
             "#f0f921"
            ]
           ]
          },
          "colorway": [
           "#636efa",
           "#EF553B",
           "#00cc96",
           "#ab63fa",
           "#FFA15A",
           "#19d3f3",
           "#FF6692",
           "#B6E880",
           "#FF97FF",
           "#FECB52"
          ],
          "font": {
           "color": "#2a3f5f"
          },
          "geo": {
           "bgcolor": "white",
           "lakecolor": "white",
           "landcolor": "#E5ECF6",
           "showlakes": true,
           "showland": true,
           "subunitcolor": "white"
          },
          "hoverlabel": {
           "align": "left"
          },
          "hovermode": "closest",
          "mapbox": {
           "style": "light"
          },
          "paper_bgcolor": "white",
          "plot_bgcolor": "#E5ECF6",
          "polar": {
           "angularaxis": {
            "gridcolor": "white",
            "linecolor": "white",
            "ticks": ""
           },
           "bgcolor": "#E5ECF6",
           "radialaxis": {
            "gridcolor": "white",
            "linecolor": "white",
            "ticks": ""
           }
          },
          "scene": {
           "xaxis": {
            "backgroundcolor": "#E5ECF6",
            "gridcolor": "white",
            "gridwidth": 2,
            "linecolor": "white",
            "showbackground": true,
            "ticks": "",
            "zerolinecolor": "white"
           },
           "yaxis": {
            "backgroundcolor": "#E5ECF6",
            "gridcolor": "white",
            "gridwidth": 2,
            "linecolor": "white",
            "showbackground": true,
            "ticks": "",
            "zerolinecolor": "white"
           },
           "zaxis": {
            "backgroundcolor": "#E5ECF6",
            "gridcolor": "white",
            "gridwidth": 2,
            "linecolor": "white",
            "showbackground": true,
            "ticks": "",
            "zerolinecolor": "white"
           }
          },
          "shapedefaults": {
           "line": {
            "color": "#2a3f5f"
           }
          },
          "ternary": {
           "aaxis": {
            "gridcolor": "white",
            "linecolor": "white",
            "ticks": ""
           },
           "baxis": {
            "gridcolor": "white",
            "linecolor": "white",
            "ticks": ""
           },
           "bgcolor": "#E5ECF6",
           "caxis": {
            "gridcolor": "white",
            "linecolor": "white",
            "ticks": ""
           }
          },
          "title": {
           "x": 0.05
          },
          "xaxis": {
           "automargin": true,
           "gridcolor": "white",
           "linecolor": "white",
           "ticks": "",
           "title": {
            "standoff": 15
           },
           "zerolinecolor": "white",
           "zerolinewidth": 2
          },
          "yaxis": {
           "automargin": true,
           "gridcolor": "white",
           "linecolor": "white",
           "ticks": "",
           "title": {
            "standoff": 15
           },
           "zerolinecolor": "white",
           "zerolinewidth": 2
          }
         }
        },
        "title": {
         "text": "Top 10 Countries by Total COVID-19 Cases"
        },
        "xaxis": {
         "anchor": "y",
         "autorange": true,
         "domain": [
          0,
          1
         ],
         "range": [
          -0.5,
          9.5
         ],
         "title": {
          "text": "Country"
         },
         "type": "category"
        },
        "yaxis": {
         "anchor": "x",
         "autorange": true,
         "domain": [
          0,
          1
         ],
         "range": [
          0,
          108880870.5263158
         ],
         "title": {
          "text": "Total Cases"
         },
         "type": "linear"
        }
       }
      },
      "image/png": "[encoded data removed]",
      "text/html": [
       "<div>                            <div id=\"b1742ad1-099d-4e0e-a6d7-e6cafafa1f03\" class=\"plotly-graph-div\" style=\"height:525px; width:100%;\"></div>            <script type=\"text/javascript\">                require([\"plotly\"], function(Plotly) {                    window.PLOTLYENV=window.PLOTLYENV || {};                                    if (document.getElementById(\"b1742ad1-099d-4e0e-a6d7-e6cafafa1f03\")) {                    Plotly.newPlot(                        \"b1742ad1-099d-4e0e-a6d7-e6cafafa1f03\",                        [{\"alignmentgroup\":\"True\",\"hovertemplate\":\"Country=%{x}\\u003cbr\\u003eTotal Cases=%{y}\\u003cextra\\u003e\\u003c\\u002fextra\\u003e\",\"legendgroup\":\"\",\"marker\":{\"color\":\"#636efa\",\"pattern\":{\"shape\":\"\"}},\"name\":\"\",\"offsetgroup\":\"\",\"orientation\":\"v\",\"showlegend\":false,\"textposition\":\"auto\",\"x\":[\"United States\",\"China\",\"India\",\"France\",\"Germany\",\"Brazil\",\"South Korea\",\"Japan\",\"Italy\",\"United Kingdom\"],\"xaxis\":\"x\",\"y\":[103436827,99379132,45042835,38997489,38437755,37511921,34571873,33803571,26826486,24983908],\"yaxis\":\"y\",\"type\":\"bar\"}],                        {\"template\":{\"data\":{\"histogram2dcontour\":[{\"type\":\"histogram2dcontour\",\"colorbar\":{\"outlinewidth\":0,\"ticks\":\"\"},\"colorscale\":[[0.0,\"#0d0887\"],[0.1111111111111111,\"#46039f\"],[0.2222222222222222,\"#7201a8\"],[0.3333333333333333,\"#9c179e\"],[0.4444444444444444,\"#bd3786\"],[0.5555555555555556,\"#d8576b\"],[0.6666666666666666,\"#ed7953\"],[0.7777777777777778,\"#fb9f3a\"],[0.8888888888888888,\"#fdca26\"],[1.0,\"#f0f921\"]]}],\"choropleth\":[{\"type\":\"choropleth\",\"colorbar\":{\"outlinewidth\":0,\"ticks\":\"\"}}],\"histogram2d\":[{\"type\":\"histogram2d\",\"colorbar\":{\"outlinewidth\":0,\"ticks\":\"\"},\"colorscale\":[[0.0,\"#0d0887\"],[0.1111111111111111,\"#46039f\"],[0.2222222222222222,\"#7201a8\"],[0.3333333333333333,\"#9c179e\"],[0.4444444444444444,\"#bd3786\"],[0.5555555555555556,\"#d8576b\"],[0.6666666666666666,\"#ed7953\"],[0.7777777777777778,\"#fb9f3a\"],[0.8888888888888888,\"#fdca26\"],[1.0,\"#f0f921\"]]}],\"heatmap\":[{\"type\":\"heatmap\",\"colorbar\":{\"outlinewidth\":0,\"ticks\":\"\"},\"colorscale\":[[0.0,\"#0d0887\"],[0.1111111111111111,\"#46039f\"],[0.2222222222222222,\"#7201a8\"],[0.3333333333333333,\"#9c179e\"],[0.4444444444444444,\"#bd3786\"],[0.5555555555555556,\"#d8576b\"],[0.6666666666666666,\"#ed7953\"],[0.7777777777777778,\"#fb9f3a\"],[0.8888888888888888,\"#fdca26\"],[1.0,\"#f0f921\"]]}],\"heatmapgl\":[{\"type\":\"heatmapgl\",\"colorbar\":{\"outlinewidth\":0,\"ticks\":\"\"},\"colorscale\":[[0.0,\"#0d0887\"],[0.1111111111111111,\"#46039f\"],[0.2222222222222222,\"#7201a8\"],[0.3333333333333333,\"#9c179e\"],[0.4444444444444444,\"#bd3786\"],[0.5555555555555556,\"#d8576b\"],[0.6666666666666666,\"#ed7953\"],[0.7777777777777778,\"#fb9f3a\"],[0.8888888888888888,\"#fdca26\"],[1.0,\"#f0f921\"]]}],\"contourcarpet\":[{\"type\":\"contourcarpet\",\"colorbar\":{\"outlinewidth\":0,\"ticks\":\"\"}}],\"contour\":[{\"type\":\"contour\",\"colorbar\":{\"outlinewidth\":0,\"ticks\":\"\"},\"colorscale\":[[0.0,\"#0d0887\"],[0.1111111111111111,\"#46039f\"],[0.2222222222222222,\"#7201a8\"],[0.3333333333333333,\"#9c179e\"],[0.4444444444444444,\"#bd3786\"],[0.5555555555555556,\"#d8576b\"],[0.6666666666666666,\"#ed7953\"],[0.7777777777777778,\"#fb9f3a\"],[0.8888888888888888,\"#fdca26\"],[1.0,\"#f0f921\"]]}],\"surface\":[{\"type\":\"surface\",\"colorbar\":{\"outlinewidth\":0,\"ticks\":\"\"},\"colorscale\":[[0.0,\"#0d0887\"],[0.1111111111111111,\"#46039f\"],[0.2222222222222222,\"#7201a8\"],[0.3333333333333333,\"#9c179e\"],[0.4444444444444444,\"#bd3786\"],[0.5555555555555556,\"#d8576b\"],[0.6666666666666666,\"#ed7953\"],[0.7777777777777778,\"#fb9f3a\"],[0.8888888888888888,\"#fdca26\"],[1.0,\"#f0f921\"]]}],\"mesh3d\":[{\"type\":\"mesh3d\",\"colorbar\":{\"outlinewidth\":0,\"ticks\":\"\"}}],\"scatter\":[{\"fillpattern\":{\"fillmode\":\"overlay\",\"size\":10,\"solidity\":0.2},\"type\":\"scatter\"}],\"parcoords\":[{\"type\":\"parcoords\",\"line\":{\"colorbar\":{\"outlinewidth\":0,\"ticks\":\"\"}}}],\"scatterpolargl\":[{\"type\":\"scatterpolargl\",\"marker\":{\"colorbar\":{\"outlinewidth\":0,\"ticks\":\"\"}}}],\"bar\":[{\"error_x\":{\"color\":\"#2a3f5f\"},\"error_y\":{\"color\":\"#2a3f5f\"},\"marker\":{\"line\":{\"color\":\"#E5ECF6\",\"width\":0.5},\"pattern\":{\"fillmode\":\"overlay\",\"size\":10,\"solidity\":0.2}},\"type\":\"bar\"}],\"scattergeo\":[{\"type\":\"scattergeo\",\"marker\":{\"colorbar\":{\"outlinewidth\":0,\"ticks\":\"\"}}}],\"scatterpolar\":[{\"type\":\"scatterpolar\",\"marker\":{\"colorbar\":{\"outlinewidth\":0,\"ticks\":\"\"}}}],\"histogram\":[{\"marker\":{\"pattern\":{\"fillmode\":\"overlay\",\"size\":10,\"solidity\":0.2}},\"type\":\"histogram\"}],\"scattergl\":[{\"type\":\"scattergl\",\"marker\":{\"colorbar\":{\"outlinewidth\":0,\"ticks\":\"\"}}}],\"scatter3d\":[{\"type\":\"scatter3d\",\"line\":{\"colorbar\":{\"outlinewidth\":0,\"ticks\":\"\"}},\"marker\":{\"colorbar\":{\"outlinewidth\":0,\"ticks\":\"\"}}}],\"scattermapbox\":[{\"type\":\"scattermapbox\",\"marker\":{\"colorbar\":{\"outlinewidth\":0,\"ticks\":\"\"}}}],\"scatterternary\":[{\"type\":\"scatterternary\",\"marker\":{\"colorbar\":{\"outlinewidth\":0,\"ticks\":\"\"}}}],\"scattercarpet\":[{\"type\":\"scattercarpet\",\"marker\":{\"colorbar\":{\"outlinewidth\":0,\"ticks\":\"\"}}}],\"carpet\":[{\"aaxis\":{\"endlinecolor\":\"#2a3f5f\",\"gridcolor\":\"white\",\"linecolor\":\"white\",\"minorgridcolor\":\"white\",\"startlinecolor\":\"#2a3f5f\"},\"baxis\":{\"endlinecolor\":\"#2a3f5f\",\"gridcolor\":\"white\",\"linecolor\":\"white\",\"minorgridcolor\":\"white\",\"startlinecolor\":\"#2a3f5f\"},\"type\":\"carpet\"}],\"table\":[{\"cells\":{\"fill\":{\"color\":\"#EBF0F8\"},\"line\":{\"color\":\"white\"}},\"header\":{\"fill\":{\"color\":\"#C8D4E3\"},\"line\":{\"color\":\"white\"}},\"type\":\"table\"}],\"barpolar\":[{\"marker\":{\"line\":{\"color\":\"#E5ECF6\",\"width\":0.5},\"pattern\":{\"fillmode\":\"overlay\",\"size\":10,\"solidity\":0.2}},\"type\":\"barpolar\"}],\"pie\":[{\"automargin\":true,\"type\":\"pie\"}]},\"layout\":{\"autotypenumbers\":\"strict\",\"colorway\":[\"#636efa\",\"#EF553B\",\"#00cc96\",\"#ab63fa\",\"#FFA15A\",\"#19d3f3\",\"#FF6692\",\"#B6E880\",\"#FF97FF\",\"#FECB52\"],\"font\":{\"color\":\"#2a3f5f\"},\"hovermode\":\"closest\",\"hoverlabel\":{\"align\":\"left\"},\"paper_bgcolor\":\"white\",\"plot_bgcolor\":\"#E5ECF6\",\"polar\":{\"bgcolor\":\"#E5ECF6\",\"angularaxis\":{\"gridcolor\":\"white\",\"linecolor\":\"white\",\"ticks\":\"\"},\"radialaxis\":{\"gridcolor\":\"white\",\"linecolor\":\"white\",\"ticks\":\"\"}},\"ternary\":{\"bgcolor\":\"#E5ECF6\",\"aaxis\":{\"gridcolor\":\"white\",\"linecolor\":\"white\",\"ticks\":\"\"},\"baxis\":{\"gridcolor\":\"white\",\"linecolor\":\"white\",\"ticks\":\"\"},\"caxis\":{\"gridcolor\":\"white\",\"linecolor\":\"white\",\"ticks\":\"\"}},\"coloraxis\":{\"colorbar\":{\"outlinewidth\":0,\"ticks\":\"\"}},\"colorscale\":{\"sequential\":[[0.0,\"#0d0887\"],[0.1111111111111111,\"#46039f\"],[0.2222222222222222,\"#7201a8\"],[0.3333333333333333,\"#9c179e\"],[0.4444444444444444,\"#bd3786\"],[0.5555555555555556,\"#d8576b\"],[0.6666666666666666,\"#ed7953\"],[0.7777777777777778,\"#fb9f3a\"],[0.8888888888888888,\"#fdca26\"],[1.0,\"#f0f921\"]],\"sequentialminus\":[[0.0,\"#0d0887\"],[0.1111111111111111,\"#46039f\"],[0.2222222222222222,\"#7201a8\"],[0.3333333333333333,\"#9c179e\"],[0.4444444444444444,\"#bd3786\"],[0.5555555555555556,\"#d8576b\"],[0.6666666666666666,\"#ed7953\"],[0.7777777777777778,\"#fb9f3a\"],[0.8888888888888888,\"#fdca26\"],[1.0,\"#f0f921\"]],\"diverging\":[[0,\"#8e0152\"],[0.1,\"#c51b7d\"],[0.2,\"#de77ae\"],[0.3,\"#f1b6da\"],[0.4,\"#fde0ef\"],[0.5,\"#f7f7f7\"],[0.6,\"#e6f5d0\"],[0.7,\"#b8e186\"],[0.8,\"#7fbc41\"],[0.9,\"#4d9221\"],[1,\"#276419\"]]},\"xaxis\":{\"gridcolor\":\"white\",\"linecolor\":\"white\",\"ticks\":\"\",\"title\":{\"standoff\":15},\"zerolinecolor\":\"white\",\"automargin\":true,\"zerolinewidth\":2},\"yaxis\":{\"gridcolor\":\"white\",\"linecolor\":\"white\",\"ticks\":\"\",\"title\":{\"standoff\":15},\"zerolinecolor\":\"white\",\"automargin\":true,\"zerolinewidth\":2},\"scene\":{\"xaxis\":{\"backgroundcolor\":\"#E5ECF6\",\"gridcolor\":\"white\",\"linecolor\":\"white\",\"showbackground\":true,\"ticks\":\"\",\"zerolinecolor\":\"white\",\"gridwidth\":2},\"yaxis\":{\"backgroundcolor\":\"#E5ECF6\",\"gridcolor\":\"white\",\"linecolor\":\"white\",\"showbackground\":true,\"ticks\":\"\",\"zerolinecolor\":\"white\",\"gridwidth\":2},\"zaxis\":{\"backgroundcolor\":\"#E5ECF6\",\"gridcolor\":\"white\",\"linecolor\":\"white\",\"showbackground\":true,\"ticks\":\"\",\"zerolinecolor\":\"white\",\"gridwidth\":2}},\"shapedefaults\":{\"line\":{\"color\":\"#2a3f5f\"}},\"annotationdefaults\":{\"arrowcolor\":\"#2a3f5f\",\"arrowhead\":0,\"arrowwidth\":1},\"geo\":{\"bgcolor\":\"white\",\"landcolor\":\"#E5ECF6\",\"subunitcolor\":\"white\",\"showland\":true,\"showlakes\":true,\"lakecolor\":\"white\"},\"title\":{\"x\":0.05},\"mapbox\":{\"style\":\"light\"}}},\"xaxis\":{\"anchor\":\"y\",\"domain\":[0.0,1.0],\"title\":{\"text\":\"Country\"}},\"yaxis\":{\"anchor\":\"x\",\"domain\":[0.0,1.0],\"title\":{\"text\":\"Total Cases\"}},\"legend\":{\"tracegroupgap\":0},\"title\":{\"text\":\"Top 10 Countries by Total COVID-19 Cases\"},\"barmode\":\"relative\"},                        {\"responsive\": true}                    ).then(function(){\n",
       "                            \n",
       "var gd = document.getElementById('b1742ad1-099d-4e0e-a6d7-e6cafafa1f03');\n",
       "var x = new MutationObserver(function (mutations, observer) {{\n",
       "        var display = window.getComputedStyle(gd).display;\n",
       "        if (!display || display === 'none') {{\n",
       "            console.log([gd, 'removed!']);\n",
       "            Plotly.purge(gd);\n",
       "            observer.disconnect();\n",
       "        }}\n",
       "}});\n",
       "\n",
       "// Listen for the removal of the full notebook cells\n",
       "var notebookContainer = gd.closest('#notebook-container');\n",
       "if (notebookContainer) {{\n",
       "    x.observe(notebookContainer, {childList: true});\n",
       "}}\n",
       "\n",
       "// Listen for the clearing of the current output cell\n",
       "var outputEl = gd.closest('.output');\n",
       "if (outputEl) {{\n",
       "    x.observe(outputEl, {childList: true});\n",
       "}}\n",
       "\n",
       "                        })                };                });            </script>        </div>"
      ]
     },
     "metadata": {},
     "output_type": "display_data"
    }
   ],
   "source": [
    "px.bar(\n",
    "    final.total_cases.nlargest(10).reset_index(),\n",
    "    x='country',\n",
    "    y='total_cases',\n",
    "    title='Top 10 Countries by Total COVID-19 Cases',\n",
    "    labels={'total_cases': 'Total Cases', 'country': 'Country'}\n",
    ")"
   ]
  },
  {
   "cell_type": "code",
   "execution_count": null,
   "id": "800b94b9-c1ba-4c38-8793-78e81278f76b",
   "metadata": {},
   "outputs": [],
   "source": []
  },
  {
   "cell_type": "code",
   "execution_count": 378,
   "id": "756c9575-39d2-45c7-a53e-4f3e632cd0b8",
   "metadata": {},
   "outputs": [],
   "source": [
    "# custom helper functions to format column with commas and no decimals\n",
    "\n",
    "pd.Series.nice = lambda series, format= '{:,.0f}': pd.DataFrame(series).style.format(format)\n",
    "pd.DataFrame.nice = lambda frame, format= '{:,.0f}': frame.style.format(format)"
   ]
  },
  {
   "cell_type": "code",
   "execution_count": 388,
   "id": "8acc2e5d-b35a-4047-b7be-064ff2b12d95",
   "metadata": {},
   "outputs": [
    {
     "data": {
      "text/html": [
       "<div>\n",
       "<style scoped>\n",
       "    .dataframe tbody tr th:only-of-type {\n",
       "        vertical-align: middle;\n",
       "    }\n",
       "\n",
       "    .dataframe tbody tr th {\n",
       "        vertical-align: top;\n",
       "    }\n",
       "\n",
       "    .dataframe thead th {\n",
       "        text-align: right;\n",
       "    }\n",
       "</style>\n",
       "<table border=\"1\" class=\"dataframe\">\n",
       "  <thead>\n",
       "    <tr style=\"text-align: right;\">\n",
       "      <th></th>\n",
       "      <th>total_cases</th>\n",
       "    </tr>\n",
       "    <tr>\n",
       "      <th>country</th>\n",
       "      <th></th>\n",
       "    </tr>\n",
       "  </thead>\n",
       "  <tbody>\n",
       "    <tr>\n",
       "      <th>United Kingdom</th>\n",
       "      <td>24983908</td>\n",
       "    </tr>\n",
       "    <tr>\n",
       "      <th>Italy</th>\n",
       "      <td>26826486</td>\n",
       "    </tr>\n",
       "    <tr>\n",
       "      <th>Japan</th>\n",
       "      <td>33803571</td>\n",
       "    </tr>\n",
       "    <tr>\n",
       "      <th>South Korea</th>\n",
       "      <td>34571873</td>\n",
       "    </tr>\n",
       "    <tr>\n",
       "      <th>Brazil</th>\n",
       "      <td>37511921</td>\n",
       "    </tr>\n",
       "    <tr>\n",
       "      <th>Germany</th>\n",
       "      <td>38437755</td>\n",
       "    </tr>\n",
       "    <tr>\n",
       "      <th>France</th>\n",
       "      <td>38997489</td>\n",
       "    </tr>\n",
       "    <tr>\n",
       "      <th>India</th>\n",
       "      <td>45042835</td>\n",
       "    </tr>\n",
       "    <tr>\n",
       "      <th>China</th>\n",
       "      <td>99379132</td>\n",
       "    </tr>\n",
       "    <tr>\n",
       "      <th>United States</th>\n",
       "      <td>103436827</td>\n",
       "    </tr>\n",
       "  </tbody>\n",
       "</table>\n",
       "</div>"
      ],
      "text/plain": [
       "                total_cases\n",
       "country                    \n",
       "United Kingdom     24983908\n",
       "Italy              26826486\n",
       "Japan              33803571\n",
       "South Korea        34571873\n",
       "Brazil             37511921\n",
       "Germany            38437755\n",
       "France             38997489\n",
       "India              45042835\n",
       "China              99379132\n",
       "United States     103436827"
      ]
     },
     "execution_count": 388,
     "metadata": {},
     "output_type": "execute_result"
    }
   ],
   "source": [
    "#final.total_cases.nlargest(10).nice()\n",
    "pd.DataFrame(final.total_cases.sort_values().tail(10))"
   ]
  },
  {
   "cell_type": "code",
   "execution_count": 390,
   "id": "a734ca34-693f-494d-bdad-87448296291e",
   "metadata": {},
   "outputs": [
    {
     "data": {
      "text/html": [
       "<style type=\"text/css\">\n",
       "</style>\n",
       "<table id=\"T_f5b84\">\n",
       "  <thead>\n",
       "    <tr>\n",
       "      <th class=\"blank level0\" >&nbsp;</th>\n",
       "      <th id=\"T_f5b84_level0_col0\" class=\"col_heading level0 col0\" >total_cases</th>\n",
       "      <th id=\"T_f5b84_level0_col1\" class=\"col_heading level0 col1\" >total_deaths</th>\n",
       "    </tr>\n",
       "    <tr>\n",
       "      <th class=\"index_name level0\" >country</th>\n",
       "      <th class=\"blank col0\" >&nbsp;</th>\n",
       "      <th class=\"blank col1\" >&nbsp;</th>\n",
       "    </tr>\n",
       "  </thead>\n",
       "  <tbody>\n",
       "    <tr>\n",
       "      <th id=\"T_f5b84_level0_row0\" class=\"row_heading level0 row0\" >United States</th>\n",
       "      <td id=\"T_f5b84_row0_col0\" class=\"data row0 col0\" >103,436,827</td>\n",
       "      <td id=\"T_f5b84_row0_col1\" class=\"data row0 col1\" >1,127,911</td>\n",
       "    </tr>\n",
       "    <tr>\n",
       "      <th id=\"T_f5b84_level0_row1\" class=\"row_heading level0 row1\" >Brazil</th>\n",
       "      <td id=\"T_f5b84_row1_col0\" class=\"data row1 col0\" >37,511,921</td>\n",
       "      <td id=\"T_f5b84_row1_col1\" class=\"data row1 col1\" >702,116</td>\n",
       "    </tr>\n",
       "    <tr>\n",
       "      <th id=\"T_f5b84_level0_row2\" class=\"row_heading level0 row2\" >India</th>\n",
       "      <td id=\"T_f5b84_row2_col0\" class=\"data row2 col0\" >45,042,835</td>\n",
       "      <td id=\"T_f5b84_row2_col1\" class=\"data row2 col1\" >533,636</td>\n",
       "    </tr>\n",
       "    <tr>\n",
       "      <th id=\"T_f5b84_level0_row3\" class=\"row_heading level0 row3\" >Russia</th>\n",
       "      <td id=\"T_f5b84_row3_col0\" class=\"data row3 col0\" >24,334,446</td>\n",
       "      <td id=\"T_f5b84_row3_col1\" class=\"data row3 col1\" >403,292</td>\n",
       "    </tr>\n",
       "    <tr>\n",
       "      <th id=\"T_f5b84_level0_row4\" class=\"row_heading level0 row4\" >Mexico</th>\n",
       "      <td id=\"T_f5b84_row4_col0\" class=\"data row4 col0\" >7,621,651</td>\n",
       "      <td id=\"T_f5b84_row4_col1\" class=\"data row4 col1\" >334,714</td>\n",
       "    </tr>\n",
       "    <tr>\n",
       "      <th id=\"T_f5b84_level0_row5\" class=\"row_heading level0 row5\" >United Kingdom</th>\n",
       "      <td id=\"T_f5b84_row5_col0\" class=\"data row5 col0\" >24,983,908</td>\n",
       "      <td id=\"T_f5b84_row5_col1\" class=\"data row5 col1\" >232,112</td>\n",
       "    </tr>\n",
       "    <tr>\n",
       "      <th id=\"T_f5b84_level0_row6\" class=\"row_heading level0 row6\" >Peru</th>\n",
       "      <td id=\"T_f5b84_row6_col0\" class=\"data row6 col0\" >4,526,976</td>\n",
       "      <td id=\"T_f5b84_row6_col1\" class=\"data row6 col1\" >220,975</td>\n",
       "    </tr>\n",
       "    <tr>\n",
       "      <th id=\"T_f5b84_level0_row7\" class=\"row_heading level0 row7\" >Italy</th>\n",
       "      <td id=\"T_f5b84_row7_col0\" class=\"data row7 col0\" >26,826,486</td>\n",
       "      <td id=\"T_f5b84_row7_col1\" class=\"data row7 col1\" >197,542</td>\n",
       "    </tr>\n",
       "    <tr>\n",
       "      <th id=\"T_f5b84_level0_row8\" class=\"row_heading level0 row8\" >Germany</th>\n",
       "      <td id=\"T_f5b84_row8_col0\" class=\"data row8 col0\" >38,437,755</td>\n",
       "      <td id=\"T_f5b84_row8_col1\" class=\"data row8 col1\" >174,979</td>\n",
       "    </tr>\n",
       "    <tr>\n",
       "      <th id=\"T_f5b84_level0_row9\" class=\"row_heading level0 row9\" >France</th>\n",
       "      <td id=\"T_f5b84_row9_col0\" class=\"data row9 col0\" >38,997,489</td>\n",
       "      <td id=\"T_f5b84_row9_col1\" class=\"data row9 col1\" >167,985</td>\n",
       "    </tr>\n",
       "  </tbody>\n",
       "</table>\n"
      ],
      "text/plain": [
       "<pandas.io.formats.style.Styler at 0x2961aa695e0>"
      ]
     },
     "execution_count": 390,
     "metadata": {},
     "output_type": "execute_result"
    }
   ],
   "source": [
    "final.nlargest(10, columns = 'total_deaths')[['total_cases','total_deaths']].nice()"
   ]
  },
  {
   "cell_type": "markdown",
   "id": "8d9e81c9-988c-46c2-bafe-66a7d6705c14",
   "metadata": {},
   "source": [
    "United States reports the highest number of COVID-19 deaths, this is obvious considering that countries with larger populations (e.g., the US) may naturally have higher numbers of cases and deaths"
   ]
  },
  {
   "cell_type": "code",
   "execution_count": null,
   "id": "307ec201-d3b4-4392-86d1-cf87bb0ad81f",
   "metadata": {},
   "outputs": [],
   "source": []
  },
  {
   "cell_type": "code",
   "execution_count": null,
   "id": "f92effaa-2955-433b-ba36-1f78e5a46c76",
   "metadata": {},
   "outputs": [],
   "source": []
  },
  {
   "cell_type": "code",
   "execution_count": 1,
   "id": "e3dcbc66-46c5-4d8e-909e-edb0be3c97a5",
   "metadata": {},
   "outputs": [],
   "source": [
    "# To account for population size, created a new columns to calculate cases per million and deaths per million. \n",
    "# This normalization will provide a more accurate comparison across countries of varying population sizes."
   ]
  },
  {
   "cell_type": "code",
   "execution_count": 407,
   "id": "ff9596c2-f4e0-4c01-baaa-a9ef0fe54061",
   "metadata": {},
   "outputs": [],
   "source": [
    "final['cases_per_million'] = final.total_cases / (final.population / 1000000)\n",
    "final['deaths_per_million'] = final.total_deaths / (final.population / 1.0e6)"
   ]
  },
  {
   "cell_type": "code",
   "execution_count": 409,
   "id": "87b02baf-00b1-4b8e-8ea0-d5229c3da18f",
   "metadata": {},
   "outputs": [
    {
     "data": {
      "text/plain": [
       "country\n",
       "Afghanistan      5796.443792\n",
       "Algeria          5984.424216\n",
       "Angola           3016.161514\n",
       "Argentina      222473.008223\n",
       "Australia      452698.976569\n",
       "                   ...      \n",
       "Venezuela       19590.036032\n",
       "Vietnam        116612.384654\n",
       "Yemen             312.509157\n",
       "Zambia           17360.64833\n",
       "Zimbabwe        16577.695486\n",
       "Name: cases_per_million, Length: 93, dtype: double[pyarrow]"
      ]
     },
     "execution_count": 409,
     "metadata": {},
     "output_type": "execute_result"
    }
   ],
   "source": [
    "final.cases_per_million"
   ]
  },
  {
   "cell_type": "code",
   "execution_count": null,
   "id": "333911e6-1ad4-4f67-9248-1cccd9f2190c",
   "metadata": {},
   "outputs": [],
   "source": []
  },
  {
   "cell_type": "code",
   "execution_count": 419,
   "id": "93d66291-8364-4c85-a7bf-ca81dc7c6a59",
   "metadata": {},
   "outputs": [
    {
     "data": {
      "text/html": [
       "<style type=\"text/css\">\n",
       "</style>\n",
       "<table id=\"T_b7182\">\n",
       "  <thead>\n",
       "    <tr>\n",
       "      <th class=\"blank level0\" >&nbsp;</th>\n",
       "      <th id=\"T_b7182_level0_col0\" class=\"col_heading level0 col0\" >cases_per_million</th>\n",
       "      <th id=\"T_b7182_level0_col1\" class=\"col_heading level0 col1\" >deaths_per_million</th>\n",
       "    </tr>\n",
       "    <tr>\n",
       "      <th class=\"index_name level0\" >country</th>\n",
       "      <th class=\"blank col0\" >&nbsp;</th>\n",
       "      <th class=\"blank col1\" >&nbsp;</th>\n",
       "    </tr>\n",
       "  </thead>\n",
       "  <tbody>\n",
       "    <tr>\n",
       "      <th id=\"T_b7182_level0_row0\" class=\"row_heading level0 row0\" >Peru</th>\n",
       "      <td id=\"T_b7182_row0_col0\" class=\"data row0 col0\" >135,233</td>\n",
       "      <td id=\"T_b7182_row0_col1\" class=\"data row0 col1\" >6,601</td>\n",
       "    </tr>\n",
       "    <tr>\n",
       "      <th id=\"T_b7182_level0_row1\" class=\"row_heading level0 row1\" >Czechia</th>\n",
       "      <td id=\"T_b7182_row1_col0\" class=\"data row1 col0\" >446,657</td>\n",
       "      <td id=\"T_b7182_row1_col1\" class=\"data row1 col1\" >4,079</td>\n",
       "    </tr>\n",
       "    <tr>\n",
       "      <th id=\"T_b7182_level0_row2\" class=\"row_heading level0 row2\" >Greece</th>\n",
       "      <td id=\"T_b7182_row2_col0\" class=\"data row2 col0\" >546,852</td>\n",
       "      <td id=\"T_b7182_row2_col1\" class=\"data row2 col1\" >3,789</td>\n",
       "    </tr>\n",
       "    <tr>\n",
       "      <th id=\"T_b7182_level0_row3\" class=\"row_heading level0 row3\" >Romania</th>\n",
       "      <td id=\"T_b7182_row3_col0\" class=\"data row3 col0\" >185,760</td>\n",
       "      <td id=\"T_b7182_row3_col1\" class=\"data row3 col1\" >3,594</td>\n",
       "    </tr>\n",
       "    <tr>\n",
       "      <th id=\"T_b7182_level0_row4\" class=\"row_heading level0 row4\" >United Kingdom</th>\n",
       "      <td id=\"T_b7182_row4_col0\" class=\"data row4 col0\" >366,444</td>\n",
       "      <td id=\"T_b7182_row4_col1\" class=\"data row4 col1\" >3,404</td>\n",
       "    </tr>\n",
       "    <tr>\n",
       "      <th id=\"T_b7182_level0_row5\" class=\"row_heading level0 row5\" >Brazil</th>\n",
       "      <td id=\"T_b7182_row5_col0\" class=\"data row5 col0\" >178,368</td>\n",
       "      <td id=\"T_b7182_row5_col1\" class=\"data row5 col1\" >3,339</td>\n",
       "    </tr>\n",
       "    <tr>\n",
       "      <th id=\"T_b7182_level0_row6\" class=\"row_heading level0 row6\" >Italy</th>\n",
       "      <td id=\"T_b7182_row6_col0\" class=\"data row6 col0\" >449,965</td>\n",
       "      <td id=\"T_b7182_row6_col1\" class=\"data row6 col1\" >3,313</td>\n",
       "    </tr>\n",
       "    <tr>\n",
       "      <th id=\"T_b7182_level0_row7\" class=\"row_heading level0 row7\" >United States</th>\n",
       "      <td id=\"T_b7182_row7_col0\" class=\"data row7 col0\" >302,859</td>\n",
       "      <td id=\"T_b7182_row7_col1\" class=\"data row7 col1\" >3,302</td>\n",
       "    </tr>\n",
       "    <tr>\n",
       "      <th id=\"T_b7182_level0_row8\" class=\"row_heading level0 row8\" >Chile</th>\n",
       "      <td id=\"T_b7182_row8_col0\" class=\"data row8 col0\" >276,258</td>\n",
       "      <td id=\"T_b7182_row8_col1\" class=\"data row8 col1\" >3,209</td>\n",
       "    </tr>\n",
       "    <tr>\n",
       "      <th id=\"T_b7182_level0_row9\" class=\"row_heading level0 row9\" >Poland</th>\n",
       "      <td id=\"T_b7182_row9_col0\" class=\"data row9 col0\" >174,392</td>\n",
       "      <td id=\"T_b7182_row9_col1\" class=\"data row9 col1\" >3,147</td>\n",
       "    </tr>\n",
       "  </tbody>\n",
       "</table>\n"
      ],
      "text/plain": [
       "<pandas.io.formats.style.Styler at 0x29620e887d0>"
      ]
     },
     "execution_count": 419,
     "metadata": {},
     "output_type": "execute_result"
    }
   ],
   "source": [
    "final.nlargest(10, 'deaths_per_million')[['cases_per_million', 'deaths_per_million']].nice()"
   ]
  },
  {
   "cell_type": "code",
   "execution_count": null,
   "id": "767d07b8-11b5-480f-9484-a150e83c9e51",
   "metadata": {},
   "outputs": [],
   "source": []
  },
  {
   "cell_type": "code",
   "execution_count": 436,
   "id": "7c324b78-92db-42a4-af3e-3fa3e08d8c45",
   "metadata": {},
   "outputs": [],
   "source": [
    "# Death Rate Analysis [death rate (deaths divided by cases)]- to further explore the severity of the pandemic’s impact in different countries. "
   ]
  },
  {
   "cell_type": "code",
   "execution_count": 448,
   "id": "08c09582-554a-4752-be4a-d7362c51f94f",
   "metadata": {},
   "outputs": [
    {
     "data": {
      "text/html": [
       "<style type=\"text/css\">\n",
       "</style>\n",
       "<table id=\"T_e0af3\">\n",
       "  <thead>\n",
       "    <tr>\n",
       "      <th class=\"blank level0\" >&nbsp;</th>\n",
       "      <th id=\"T_e0af3_level0_col0\" class=\"col_heading level0 col0\" >cases_per_million</th>\n",
       "      <th id=\"T_e0af3_level0_col1\" class=\"col_heading level0 col1\" >deaths_per_million</th>\n",
       "      <th id=\"T_e0af3_level0_col2\" class=\"col_heading level0 col2\" >death_rates</th>\n",
       "    </tr>\n",
       "    <tr>\n",
       "      <th class=\"index_name level0\" >country</th>\n",
       "      <th class=\"blank col0\" >&nbsp;</th>\n",
       "      <th class=\"blank col1\" >&nbsp;</th>\n",
       "      <th class=\"blank col2\" >&nbsp;</th>\n",
       "    </tr>\n",
       "  </thead>\n",
       "  <tbody>\n",
       "    <tr>\n",
       "      <th id=\"T_e0af3_level0_row0\" class=\"row_heading level0 row0\" >Peru</th>\n",
       "      <td id=\"T_e0af3_row0_col0\" class=\"data row0 col0\" >135,232.8</td>\n",
       "      <td id=\"T_e0af3_row0_col1\" class=\"data row0 col1\" >6,601.1</td>\n",
       "      <td id=\"T_e0af3_row0_col2\" class=\"data row0 col2\" >4.9</td>\n",
       "    </tr>\n",
       "    <tr>\n",
       "      <th id=\"T_e0af3_level0_row1\" class=\"row_heading level0 row1\" >Czechia</th>\n",
       "      <td id=\"T_e0af3_row1_col0\" class=\"data row1 col0\" >446,656.9</td>\n",
       "      <td id=\"T_e0af3_row1_col1\" class=\"data row1 col1\" >4,078.5</td>\n",
       "      <td id=\"T_e0af3_row1_col2\" class=\"data row1 col2\" >0.9</td>\n",
       "    </tr>\n",
       "    <tr>\n",
       "      <th id=\"T_e0af3_level0_row2\" class=\"row_heading level0 row2\" >Greece</th>\n",
       "      <td id=\"T_e0af3_row2_col0\" class=\"data row2 col0\" >546,851.8</td>\n",
       "      <td id=\"T_e0af3_row2_col1\" class=\"data row2 col1\" >3,788.8</td>\n",
       "      <td id=\"T_e0af3_row2_col2\" class=\"data row2 col2\" >0.7</td>\n",
       "    </tr>\n",
       "    <tr>\n",
       "      <th id=\"T_e0af3_level0_row3\" class=\"row_heading level0 row3\" >Romania</th>\n",
       "      <td id=\"T_e0af3_row3_col0\" class=\"data row3 col0\" >185,759.8</td>\n",
       "      <td id=\"T_e0af3_row3_col1\" class=\"data row3 col1\" >3,594.4</td>\n",
       "      <td id=\"T_e0af3_row3_col2\" class=\"data row3 col2\" >1.9</td>\n",
       "    </tr>\n",
       "    <tr>\n",
       "      <th id=\"T_e0af3_level0_row4\" class=\"row_heading level0 row4\" >United Kingdom</th>\n",
       "      <td id=\"T_e0af3_row4_col0\" class=\"data row4 col0\" >366,444.1</td>\n",
       "      <td id=\"T_e0af3_row4_col1\" class=\"data row4 col1\" >3,404.4</td>\n",
       "      <td id=\"T_e0af3_row4_col2\" class=\"data row4 col2\" >0.9</td>\n",
       "    </tr>\n",
       "    <tr>\n",
       "      <th id=\"T_e0af3_level0_row5\" class=\"row_heading level0 row5\" >Brazil</th>\n",
       "      <td id=\"T_e0af3_row5_col0\" class=\"data row5 col0\" >178,367.9</td>\n",
       "      <td id=\"T_e0af3_row5_col1\" class=\"data row5 col1\" >3,338.5</td>\n",
       "      <td id=\"T_e0af3_row5_col2\" class=\"data row5 col2\" >1.9</td>\n",
       "    </tr>\n",
       "    <tr>\n",
       "      <th id=\"T_e0af3_level0_row6\" class=\"row_heading level0 row6\" >Italy</th>\n",
       "      <td id=\"T_e0af3_row6_col0\" class=\"data row6 col0\" >449,964.6</td>\n",
       "      <td id=\"T_e0af3_row6_col1\" class=\"data row6 col1\" >3,313.4</td>\n",
       "      <td id=\"T_e0af3_row6_col2\" class=\"data row6 col2\" >0.7</td>\n",
       "    </tr>\n",
       "    <tr>\n",
       "      <th id=\"T_e0af3_level0_row7\" class=\"row_heading level0 row7\" >United States</th>\n",
       "      <td id=\"T_e0af3_row7_col0\" class=\"data row7 col0\" >302,859.5</td>\n",
       "      <td id=\"T_e0af3_row7_col1\" class=\"data row7 col1\" >3,302.5</td>\n",
       "      <td id=\"T_e0af3_row7_col2\" class=\"data row7 col2\" >1.1</td>\n",
       "    </tr>\n",
       "    <tr>\n",
       "      <th id=\"T_e0af3_level0_row8\" class=\"row_heading level0 row8\" >Chile</th>\n",
       "      <td id=\"T_e0af3_row8_col0\" class=\"data row8 col0\" >276,258.1</td>\n",
       "      <td id=\"T_e0af3_row8_col1\" class=\"data row8 col1\" >3,208.9</td>\n",
       "      <td id=\"T_e0af3_row8_col2\" class=\"data row8 col2\" >1.2</td>\n",
       "    </tr>\n",
       "    <tr>\n",
       "      <th id=\"T_e0af3_level0_row9\" class=\"row_heading level0 row9\" >Poland</th>\n",
       "      <td id=\"T_e0af3_row9_col0\" class=\"data row9 col0\" >174,391.9</td>\n",
       "      <td id=\"T_e0af3_row9_col1\" class=\"data row9 col1\" >3,146.8</td>\n",
       "      <td id=\"T_e0af3_row9_col2\" class=\"data row9 col2\" >1.8</td>\n",
       "    </tr>\n",
       "  </tbody>\n",
       "</table>\n"
      ],
      "text/plain": [
       "<pandas.io.formats.style.Styler at 0x29620ed0bf0>"
      ]
     },
     "execution_count": 448,
     "metadata": {},
     "output_type": "execute_result"
    }
   ],
   "source": [
    "final.nlargest(10, 'deaths_per_million')[['cases_per_million', 'deaths_per_million']] \\\n",
    ".assign(death_rates = lambda rrr: 100 * rrr.deaths_per_million / rrr.cases_per_million).nice('{:,.1f}')"
   ]
  },
  {
   "cell_type": "markdown",
   "id": "87a97be5-8eaf-4ce1-aab8-d208bb03d54c",
   "metadata": {},
   "source": [
    "Peru stands out with an exceptionally high death rate compared to other countries. Potential reasons could be: \n",
    "- Healthcare challenges: Peru may have faced issues in healthcare infrastructure, making it harder to manage the pandemic.\n",
    "- Under-reporting of cases: It's possible that the number of reported cases in Peru was lower than the actual number, while the number of deaths was more accurately reported."
   ]
  },
  {
   "cell_type": "code",
   "execution_count": null,
   "id": "b96717a3-0e09-4a9e-950f-102a35338c71",
   "metadata": {},
   "outputs": [],
   "source": []
  },
  {
   "cell_type": "code",
   "execution_count": 458,
   "id": "d63f9371-f327-4646-af43-dae1dca903a0",
   "metadata": {},
   "outputs": [],
   "source": [
    "# Excess Deaths, to compare the cumulative deaths during the pandemic with an expected baseline (based on historical data for previous years). \n",
    "# Excess death per million will provide clear sense of the total impact (pandemic) on public health in different countries"
   ]
  },
  {
   "cell_type": "raw",
   "id": "48e43818-adb8-4461-9586-39fcc80f8ec3",
   "metadata": {},
   "source": [
    "Excess deaths will capture: \n",
    "- Deaths directly caused by COVID-19\n",
    "- Deaths indirectly related to the pandemic, such as those caused by healthcare disruptions, delays in medical care, or other pandemic-related factors."
   ]
  },
  {
   "cell_type": "code",
   "execution_count": 450,
   "id": "46486a84-eeab-429f-aea1-dc0920ba85dc",
   "metadata": {},
   "outputs": [],
   "source": [
    "final['excess_per_million'] = final.total_excess / (final.population / 1.e06)"
   ]
  },
  {
   "cell_type": "code",
   "execution_count": 454,
   "id": "8db2975f-74f5-419e-9fb1-39ab54c13fe0",
   "metadata": {},
   "outputs": [
    {
     "data": {
      "text/html": [
       "<style type=\"text/css\">\n",
       "</style>\n",
       "<table id=\"T_2c470\">\n",
       "  <thead>\n",
       "    <tr>\n",
       "      <th class=\"blank level0\" >&nbsp;</th>\n",
       "      <th id=\"T_2c470_level0_col0\" class=\"col_heading level0 col0\" >cases_per_million</th>\n",
       "      <th id=\"T_2c470_level0_col1\" class=\"col_heading level0 col1\" >deaths_per_million</th>\n",
       "      <th id=\"T_2c470_level0_col2\" class=\"col_heading level0 col2\" >excess_per_million</th>\n",
       "    </tr>\n",
       "    <tr>\n",
       "      <th class=\"index_name level0\" >country</th>\n",
       "      <th class=\"blank col0\" >&nbsp;</th>\n",
       "      <th class=\"blank col1\" >&nbsp;</th>\n",
       "      <th class=\"blank col2\" >&nbsp;</th>\n",
       "    </tr>\n",
       "  </thead>\n",
       "  <tbody>\n",
       "    <tr>\n",
       "      <th id=\"T_2c470_level0_row0\" class=\"row_heading level0 row0\" >Russia</th>\n",
       "      <td id=\"T_2c470_row0_col0\" class=\"data row0 col0\" >167,155</td>\n",
       "      <td id=\"T_2c470_row0_col1\" class=\"data row0 col1\" >2,770</td>\n",
       "      <td id=\"T_2c470_row0_col2\" class=\"data row0 col2\" >9,272</td>\n",
       "    </tr>\n",
       "    <tr>\n",
       "      <th id=\"T_2c470_level0_row1\" class=\"row_heading level0 row1\" >Peru</th>\n",
       "      <td id=\"T_2c470_row1_col0\" class=\"data row1 col0\" >135,233</td>\n",
       "      <td id=\"T_2c470_row1_col1\" class=\"data row1 col1\" >6,601</td>\n",
       "      <td id=\"T_2c470_row1_col2\" class=\"data row1 col2\" >6,003</td>\n",
       "    </tr>\n",
       "    <tr>\n",
       "      <th id=\"T_2c470_level0_row2\" class=\"row_heading level0 row2\" >Bolivia</th>\n",
       "      <td id=\"T_2c470_row2_col0\" class=\"data row2 col0\" >100,367</td>\n",
       "      <td id=\"T_2c470_row2_col1\" class=\"data row2 col1\" >1,854</td>\n",
       "      <td id=\"T_2c470_row2_col2\" class=\"data row2 col2\" >5,288</td>\n",
       "    </tr>\n",
       "    <tr>\n",
       "      <th id=\"T_2c470_level0_row3\" class=\"row_heading level0 row3\" >Cuba</th>\n",
       "      <td id=\"T_2c470_row3_col0\" class=\"data row3 col0\" >100,694</td>\n",
       "      <td id=\"T_2c470_row3_col1\" class=\"data row3 col1\" >771</td>\n",
       "      <td id=\"T_2c470_row3_col2\" class=\"data row3 col2\" >5,125</td>\n",
       "    </tr>\n",
       "    <tr>\n",
       "      <th id=\"T_2c470_level0_row4\" class=\"row_heading level0 row4\" >Mexico</th>\n",
       "      <td id=\"T_2c470_row4_col0\" class=\"data row4 col0\" >59,260</td>\n",
       "      <td id=\"T_2c470_row4_col1\" class=\"data row4 col1\" >2,602</td>\n",
       "      <td id=\"T_2c470_row4_col2\" class=\"data row4 col2\" >5,044</td>\n",
       "    </tr>\n",
       "    <tr>\n",
       "      <th id=\"T_2c470_level0_row5\" class=\"row_heading level0 row5\" >South Africa</th>\n",
       "      <td id=\"T_2c470_row5_col0\" class=\"data row5 col0\" >65,292</td>\n",
       "      <td id=\"T_2c470_row5_col1\" class=\"data row5 col1\" >1,645</td>\n",
       "      <td id=\"T_2c470_row5_col2\" class=\"data row5 col2\" >4,960</td>\n",
       "    </tr>\n",
       "    <tr>\n",
       "      <th id=\"T_2c470_level0_row6\" class=\"row_heading level0 row6\" >Romania</th>\n",
       "      <td id=\"T_2c470_row6_col0\" class=\"data row6 col0\" >185,760</td>\n",
       "      <td id=\"T_2c470_row6_col1\" class=\"data row6 col1\" >3,594</td>\n",
       "      <td id=\"T_2c470_row6_col2\" class=\"data row6 col2\" >4,822</td>\n",
       "    </tr>\n",
       "    <tr>\n",
       "      <th id=\"T_2c470_level0_row7\" class=\"row_heading level0 row7\" >Ecuador</th>\n",
       "      <td id=\"T_2c470_row7_col0\" class=\"data row7 col0\" >60,594</td>\n",
       "      <td id=\"T_2c470_row7_col1\" class=\"data row7 col1\" >2,023</td>\n",
       "      <td id=\"T_2c470_row7_col2\" class=\"data row7 col2\" >4,807</td>\n",
       "    </tr>\n",
       "    <tr>\n",
       "      <th id=\"T_2c470_level0_row8\" class=\"row_heading level0 row8\" >Ukraine</th>\n",
       "      <td id=\"T_2c470_row8_col0\" class=\"data row8 col0\" >134,893</td>\n",
       "      <td id=\"T_2c470_row8_col1\" class=\"data row8 col1\" >2,678</td>\n",
       "      <td id=\"T_2c470_row8_col2\" class=\"data row8 col2\" >4,384</td>\n",
       "    </tr>\n",
       "    <tr>\n",
       "      <th id=\"T_2c470_level0_row9\" class=\"row_heading level0 row9\" >Italy</th>\n",
       "      <td id=\"T_2c470_row9_col0\" class=\"data row9 col0\" >449,965</td>\n",
       "      <td id=\"T_2c470_row9_col1\" class=\"data row9 col1\" >3,313</td>\n",
       "      <td id=\"T_2c470_row9_col2\" class=\"data row9 col2\" >4,366</td>\n",
       "    </tr>\n",
       "  </tbody>\n",
       "</table>\n"
      ],
      "text/plain": [
       "<pandas.io.formats.style.Styler at 0x29620ed0650>"
      ]
     },
     "execution_count": 454,
     "metadata": {},
     "output_type": "execute_result"
    }
   ],
   "source": [
    "final.nlargest(10, 'excess_per_million')[['cases_per_million', 'deaths_per_million', 'excess_per_million']].nice()"
   ]
  },
  {
   "cell_type": "markdown",
   "id": "7cfb0288-ca30-44a2-b18c-a56afc171a2f",
   "metadata": {},
   "source": [
    "Here, Peru shows an interesting pattern, where excess deaths are lower than the reported COVID deaths, suggesting possible under-reporting of cases.\n",
    "\n",
    "Also, countries with high excess death numbers, such as Russia, Bolivia, and several Central American nations, indicate that these regions suffered disproportionately due to the pandemic's wide-reaching consequences."
   ]
  },
  {
   "cell_type": "code",
   "execution_count": null,
   "id": "81b3d31f-3cc0-434c-a98b-df06fea44d10",
   "metadata": {},
   "outputs": [],
   "source": []
  },
  {
   "cell_type": "code",
   "execution_count": null,
   "id": "20e8ee4a-a8fd-4fe3-851b-4c2b0a21c1fe",
   "metadata": {},
   "outputs": [],
   "source": []
  }
 ],
 "metadata": {
  "kernelspec": {
   "display_name": "Python 3 (ipykernel)",
   "language": "python",
   "name": "python3"
  },
  "language_info": {
   "codemirror_mode": {
    "name": "ipython",
    "version": 3
   },
   "file_extension": ".py",
   "mimetype": "text/x-python",
   "name": "python",
   "nbconvert_exporter": "python",
   "pygments_lexer": "ipython3",
   "version": "3.12.7"
  }
 },
 "nbformat": 4,
 "nbformat_minor": 5
}
